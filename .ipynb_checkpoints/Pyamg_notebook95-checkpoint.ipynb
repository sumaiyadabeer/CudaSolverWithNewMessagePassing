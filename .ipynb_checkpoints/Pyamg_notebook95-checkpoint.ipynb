{
 "cells": [
  {
   "cell_type": "code",
   "execution_count": 1,
   "id": "eb78ea07",
   "metadata": {},
   "outputs": [],
   "source": [
    "import numpy as np\n",
    "import pyamg\n",
    "import matplotlib.pyplot as plt\n",
    "\n",
    "import scipy\n",
    "import time"
   ]
  },
  {
   "cell_type": "code",
   "execution_count": null,
   "id": "11f48fba",
   "metadata": {},
   "outputs": [],
   "source": [
    "folder = \"49\"\n",
    "prob = \"0.49\"\n",
    "nodes = str(16000)"
   ]
  },
  {
   "cell_type": "code",
   "execution_count": 2,
   "id": "cd040954",
   "metadata": {},
   "outputs": [],
   "source": [
    "input_file = \"data/generated_input/16384_random.txt\"\n",
    "result_file = \"data/generated_input/16384_random_0.95.out\""
   ]
  },
  {
   "cell_type": "code",
   "execution_count": null,
   "id": "8c94272d",
   "metadata": {},
   "outputs": [],
   "source": [
    "!tail -10 data/generated_input/16384_random.out\n"
   ]
  },
  {
   "cell_type": "code",
   "execution_count": null,
   "id": "48c0554b",
   "metadata": {},
   "outputs": [],
   "source": [
    "!tail data/{folder}/ER_{prob}_{nodes}.out"
   ]
  },
  {
   "cell_type": "markdown",
   "id": "88e7a393",
   "metadata": {},
   "source": [
    "# Input File\n"
   ]
  },
  {
   "cell_type": "code",
   "execution_count": null,
   "id": "aced000d",
   "metadata": {},
   "outputs": [],
   "source": [
    "input_file = \"data/\"+folder+\"/ER_\"+prob+\"_\"+nodes+\".txt\""
   ]
  },
  {
   "cell_type": "markdown",
   "id": "2415ff00",
   "metadata": {},
   "source": [
    "# Lsolve Result File"
   ]
  },
  {
   "cell_type": "code",
   "execution_count": null,
   "id": "a507f7ef",
   "metadata": {},
   "outputs": [],
   "source": [
    "result_file = \"data/\"+folder+\"/ER_\"+prob+\"_\"+nodes+\".out\""
   ]
  },
  {
   "cell_type": "code",
   "execution_count": 81,
   "id": "98b52ab9",
   "metadata": {},
   "outputs": [],
   "source": [
    "def read_graph(filename):\n",
    "    \n",
    "    file1 = open(filename, 'r')\n",
    "    Lines = file1.readlines()\n",
    "    file1.close()\n",
    "\n",
    "    node_edge = Lines[0]\n",
    "    node_edge = node_edge.split()\n",
    "    node_edge = [int(i) for i in node_edge]\n",
    "    \n",
    "    row_ptr = Lines[1]\n",
    "    row_ptr = row_ptr.split()\n",
    "    row_ptr = [int(i) for i in row_ptr]\n",
    "    \n",
    "    col_off = Lines[2]\n",
    "    col_off = col_off.split()\n",
    "    col_off = [int(i) for i in col_off]\n",
    "    \n",
    "    values = Lines[3]\n",
    "    values = values.split()\n",
    "    values = [float(i) for i in values]\n",
    "    \n",
    "    b = Lines[4]\n",
    "    b = b.split()\n",
    "    b = [int(i) for i in b]\n",
    "    \n",
    "    \n",
    "    return node_edge, row_ptr, col_off, values, b"
   ]
  },
  {
   "cell_type": "markdown",
   "id": "2db17085",
   "metadata": {},
   "source": [
    "# Reading the input"
   ]
  },
  {
   "cell_type": "code",
   "execution_count": 82,
   "id": "84ad1105",
   "metadata": {},
   "outputs": [
    {
     "data": {
      "text/plain": [
       "16383"
      ]
     },
     "execution_count": 82,
     "metadata": {},
     "output_type": "execute_result"
    }
   ],
   "source": [
    "filename = input_file\n",
    "node_edge, row_ptr, col_off, values, b = read_graph(filename)\n",
    "dimension = len(row_ptr)-1\n",
    "sink_index = [i for i in range(0, len(b)) if b[i] < 0]\n",
    "assert(len(sink_index)==1) #to make sure only one elecemt is negative \n",
    "sink_index = sink_index[0]\n",
    "sink_index"
   ]
  },
  {
   "cell_type": "code",
   "execution_count": 83,
   "id": "57e3367d",
   "metadata": {},
   "outputs": [],
   "source": [
    "def Admat_frm_CSR(row_ptr, col_off, values):\n",
    "    N = len(row_ptr)-1\n",
    "    A = [0]*(N*N)\n",
    "    for i in range(0,len(row_ptr)-1):\n",
    "        degree = row_ptr[i+1]-row_ptr[i]\n",
    "        A[(N*i)+i] = degree\n",
    "#         print(N,i, N*i)\n",
    "        for j in range(row_ptr[i],row_ptr[i+1]):\n",
    "#             print(i,j)\n",
    "            A[(col_off[j])+N*(i)]= -values[j];\n",
    "\n",
    "\n",
    "    A=np.asarray(A)\n",
    "    A = A.reshape(N, N).T \n",
    "    return A"
   ]
  },
  {
   "cell_type": "code",
   "execution_count": 84,
   "id": "9f90745d",
   "metadata": {},
   "outputs": [
    {
     "data": {
      "text/plain": [
       "array([[ 1.0173e+04, -1.0000e+00, -1.0000e+00, ..., -1.0000e+00,\n",
       "         0.0000e+00, -1.0000e+00],\n",
       "       [-1.0000e+00,  1.0209e+04, -1.0000e+00, ...,  0.0000e+00,\n",
       "         0.0000e+00, -1.0000e+00],\n",
       "       [-1.0000e+00, -1.0000e+00,  1.0208e+04, ..., -1.0000e+00,\n",
       "         0.0000e+00,  0.0000e+00],\n",
       "       ...,\n",
       "       [-1.0000e+00,  0.0000e+00, -1.0000e+00, ...,  1.0143e+04,\n",
       "         0.0000e+00, -1.0000e+00],\n",
       "       [ 0.0000e+00,  0.0000e+00,  0.0000e+00, ...,  0.0000e+00,\n",
       "         1.0203e+04, -1.0000e+00],\n",
       "       [-1.0000e+00, -1.0000e+00,  0.0000e+00, ..., -1.0000e+00,\n",
       "        -1.0000e+00,  1.0223e+04]])"
      ]
     },
     "execution_count": 84,
     "metadata": {},
     "output_type": "execute_result"
    }
   ],
   "source": [
    "Admat_frm_CSR(row_ptr, col_off, values)"
   ]
  },
  {
   "cell_type": "code",
   "execution_count": 85,
   "id": "69974040",
   "metadata": {},
   "outputs": [],
   "source": [
    "b= np.array(b)\n",
    "a = scipy.sparse.csr_matrix(Admat_frm_CSR(row_ptr, col_off, values))\n"
   ]
  },
  {
   "cell_type": "markdown",
   "id": "88e2a149",
   "metadata": {},
   "source": [
    "# convert RHS from b to \\betaJ"
   ]
  },
  {
   "cell_type": "code",
   "execution_count": 86,
   "id": "b8eec76d",
   "metadata": {},
   "outputs": [],
   "source": [
    "beta = 0.25\n",
    "b_sink = b[-1]"
   ]
  },
  {
   "cell_type": "code",
   "execution_count": 87,
   "id": "5d03e5ba",
   "metadata": {},
   "outputs": [
    {
     "data": {
      "text/plain": [
       "-0.25"
      ]
     },
     "execution_count": 87,
     "metadata": {},
     "output_type": "execute_result"
    }
   ],
   "source": [
    "b_new = (b*beta)/(-b_sink)\n",
    "b_new[-1] # should be -beta"
   ]
  },
  {
   "cell_type": "markdown",
   "id": "df101cc9",
   "metadata": {},
   "source": [
    "# Error calculation of Lsolve"
   ]
  },
  {
   "cell_type": "code",
   "execution_count": 88,
   "id": "4d4fae2a",
   "metadata": {},
   "outputs": [
    {
     "name": "stdout",
     "output_type": "stream",
     "text": [
      "[4.22412e-05 4.20906e-05 4.20964e-05 ... 4.23009e-05 4.19059e-05\n",
      " 0.00000e+00]\n"
     ]
    }
   ],
   "source": [
    "x_lsolve = np.loadtxt(result_file,  max_rows=node_edge[0], skiprows=0, dtype='double')\n",
    "print(x_lsolve)"
   ]
  },
  {
   "cell_type": "code",
   "execution_count": null,
   "id": "593f7cf3",
   "metadata": {},
   "outputs": [],
   "source": [
    "# x_lsolve = x_lsolve/100"
   ]
  },
  {
   "cell_type": "code",
   "execution_count": 89,
   "id": "c5d10917",
   "metadata": {},
   "outputs": [
    {
     "name": "stdout",
     "output_type": "stream",
     "text": [
      "\n",
      "\n",
      "Details: Lsolve \n",
      "--------------------\n",
      "The residual norm is 0.3426421775194392\n",
      "The relative residual norm is 1.3704014349553817\n"
     ]
    },
    {
     "data": {
      "image/png": "[encoded data removed]",
      "text/plain": [
       "<Figure size 640x480 with 1 Axes>"
      ]
     },
     "metadata": {},
     "output_type": "display_data"
    }
   ],
   "source": [
    "#residual of Lsolve\n",
    "\n",
    "residual_lsolve =  b_new - a * x_lsolve\n",
    "residual_lsolve = residual_lsolve[:-1]\n",
    "plt.scatter(list(range(0, len(list(residual_lsolve)))), list(residual_lsolve), c = \"red\")\n",
    " \n",
    "    # To show the plot\n",
    "plt.xlabel(\"node\")\n",
    "plt.ylabel(\"residual\")\n",
    "plt.title(\"Residual in Lsolve\")\n",
    "print(\"\\n\")\n",
    "print(\"Details: Lsolve \")\n",
    "print(\"--------------------\")\n",
    "\n",
    "print(\"The residual norm is {}\".format(np.linalg.norm(residual_lsolve)))  # compute norm of residual vector\n",
    "print(\"The relative residual norm is {}\".format(np.linalg.norm(residual_lsolve)/np.linalg.norm(b_new)))  # compute norm of residual vector"
   ]
  },
  {
   "cell_type": "markdown",
   "id": "44365b07",
   "metadata": {},
   "source": [
    "# PYAMG"
   ]
  },
  {
   "cell_type": "code",
   "execution_count": 90,
   "id": "e86ee211",
   "metadata": {},
   "outputs": [
    {
     "name": "stdout",
     "output_type": "stream",
     "text": [
      "Time in function 92.54540824890137\n"
     ]
    }
   ],
   "source": [
    "t_ = time.time()\n",
    "\n",
    "# ------------------------------------------------------------------\n",
    "# Step 2: setup up the system using pyamg.gallery\n",
    "# ------------------------------------------------------------------\n",
    "n = dimension\n",
    "X, Y = np.meshgrid(np.linspace(0, 1, n), np.linspace(0, 1, n))\n",
    "stencil = pyamg.gallery.diffusion_stencil_2d(type='FE', epsilon=0.001, theta=np.pi / 3)\n",
    "\n",
    "a = scipy.sparse.csr_matrix(Admat_frm_CSR(row_ptr, col_off, values))\n",
    "# b = np.array(b)\n",
    "\n",
    "res1 = []\n",
    "ml = pyamg.smoothed_aggregation_solver(a)\n",
    "x = ml.solve(b_new, tol=1e-2, residuals=res1)  # solve Ax=b to a tolerance of 1e-2\n",
    "#Your code here\n",
    "print('Time in function', time.time() - t_)"
   ]
  },
  {
   "cell_type": "code",
   "execution_count": 91,
   "id": "8b19c517",
   "metadata": {},
   "outputs": [],
   "source": [
    "x_sink_0 = x - x[sink_index]"
   ]
  },
  {
   "cell_type": "code",
   "execution_count": 92,
   "id": "192d0836",
   "metadata": {},
   "outputs": [
    {
     "data": {
      "text/plain": [
       "array([2.44531535e-05, 2.44531570e-05, 2.44555445e-05, ...,\n",
       "       2.44591659e-05, 2.44531471e-05, 0.00000000e+00])"
      ]
     },
     "execution_count": 92,
     "metadata": {},
     "output_type": "execute_result"
    }
   ],
   "source": [
    "x_sink_0"
   ]
  },
  {
   "cell_type": "code",
   "execution_count": 93,
   "id": "311969d2",
   "metadata": {},
   "outputs": [
    {
     "data": {
      "text/plain": [
       "Text(0.5, 1.0, 'x in Lx=b')"
      ]
     },
     "execution_count": 93,
     "metadata": {},
     "output_type": "execute_result"
    },
    {
     "data": {
      "image/png": "[encoded data removed]",
      "text/plain": [
       "<Figure size 640x480 with 1 Axes>"
      ]
     },
     "metadata": {},
     "output_type": "display_data"
    }
   ],
   "source": [
    "plt.scatter(list(range(0, len(list(x_sink_0)))), list(x_sink_0), c = \"blue\", label=\"pyamg\")\n",
    "plt.scatter(list(range(0, len(list(x_lsolve)))), list(x_lsolve), c = \"red\"Time in function 92.54540824890137, label = \"Lsolve\")\n",
    " \n",
    "    # To show the plot\n",
    "plt.legend()\n",
    "plt.xlabel(\"x\")\n",
    "plt.ylabel(\"node\")\n",
    "plt.title(\"x in Lx=b\")"
   ]
  },
  {
   "cell_type": "code",
   "execution_count": 94,
   "id": "8ab15a47",
   "metadata": {},
   "outputs": [
    {
     "name": "stdout",
     "output_type": "stream",
     "text": [
      "\n",
      "\n",
      "Details: Default AMG\n",
      "--------------------\n",
      "MultilevelSolver\n",
      "Number of Levels:     2\n",
      "Operator Complexity:  1.000\n",
      "Grid Complexity:      1.000\n",
      "Coarse Solver:        'pinv'\n",
      "  level   unknowns     nonzeros\n",
      "     0       16384    166461494 [100.00%]\n",
      "     1           1            1 [0.00%]\n",
      "\n",
      "The residual norm is 7.712759098314567e-06\n",
      "The relative residual norm is 3.084727108703893e-05\n"
     ]
    },
    {
     "data": {
      "image/png": "[encoded data removed]",
      "text/plain": [
       "<Figure size 640x480 with 1 Axes>"
      ]
     },
     "metadata": {},
     "output_type": "display_data"
    }
   ],
   "source": [
    "#residual Pyamg\n",
    "residual = b_new - a * x_sink_0\n",
    "# residual = residual[:-1]\n",
    "plt.scatter(list(range(0, len(list(residual)))), list(residual), c = \"blue\")\n",
    " \n",
    "    # To show the plot\n",
    "plt.xlabel(\"node\")\n",
    "plt.ylabel(\"residual\")\n",
    "plt.title(\"Residual in pyamg\")\n",
    "print(\"\\n\")\n",
    "print(\"Details: Default AMG\")\n",
    "print(\"--------------------\")\n",
    "print(ml)                                 # print hierarchy information\n",
    "\n",
    "print(\"The residual norm is {}\".format(np.linalg.norm(residual)))  # compute norm of residual vector\n",
    "\n",
    "print(\"The relative residual norm is {}\".format(np.linalg.norm(residual)/np.linalg.norm(b_new)))  # compute norm of residual vector"
   ]
  },
  {
   "cell_type": "code",
   "execution_count": 95,
   "id": "ae85aa5f",
   "metadata": {},
   "outputs": [
    {
     "name": "stdout",
     "output_type": "stream",
     "text": [
      "\n",
      "\n",
      "The Multigrid Hierarchy\n",
      "-----------------------\n",
      "A_0:      16384x16384        P_0:      16384x1         \n",
      "A_1:          1x1         \n"
     ]
    }
   ],
   "source": [
    "print(\"\\n\")\n",
    "print(\"The Multigrid Hierarchy\")\n",
    "print(\"-----------------------\")\n",
    "for l in range(len(ml.levels)):\n",
    "    An = ml.levels[l].A.shape[0]\n",
    "    Am = ml.levels[l].A.shape[1]\n",
    "    if l == (len(ml.levels)-1):\n",
    "        print(f\"A_{l}: {An:>10}x{Am:<10}\")\n",
    "    else:\n",
    "        Pn = ml.levels[l].P.shape[0]\n",
    "        Pm = ml.levels[l].P.shape[1]\n",
    "        print(f\"A_{l}: {An:>10}x{Am:<10}   P_{l}: {Pn:>10}x{Pm:<10}\")"
   ]
  },
  {
   "cell_type": "code",
   "execution_count": null,
   "id": "1d3d9174",
   "metadata": {},
   "outputs": [],
   "source": []
  },
  {
   "cell_type": "code",
   "execution_count": null,
   "id": "7fb7ea9c",
   "metadata": {},
   "outputs": [],
   "source": []
  },
  {
   "cell_type": "code",
   "execution_count": null,
   "id": "7d162d34",
   "metadata": {},
   "outputs": [],
   "source": []
  },
  {
   "cell_type": "code",
   "execution_count": null,
   "id": "968fc7ac",
   "metadata": {},
   "outputs": [],
   "source": []
  },
  {
   "cell_type": "code",
   "execution_count": null,
   "id": "207ad77d",
   "metadata": {},
   "outputs": [],
   "source": []
  },
  {
   "cell_type": "code",
   "execution_count": null,
   "id": "eee2f9e3",
   "metadata": {},
   "outputs": [],
   "source": []
  },
  {
   "cell_type": "code",
   "execution_count": null,
   "id": "b58abbf4",
   "metadata": {},
   "outputs": [],
   "source": []
  },
  {
   "cell_type": "code",
   "execution_count": null,
   "id": "66bf1ed7",
   "metadata": {},
   "outputs": [],
   "source": []
  },
  {
   "cell_type": "code",
   "execution_count": null,
   "id": "799ad3ba",
   "metadata": {},
   "outputs": [],
   "source": []
  },
  {
   "cell_type": "code",
   "execution_count": null,
   "id": "5bb4476c",
   "metadata": {},
   "outputs": [],
   "source": []
  },
  {
   "cell_type": "code",
   "execution_count": null,
   "id": "bb554055",
   "metadata": {},
   "outputs": [],
   "source": []
  },
  {
   "cell_type": "code",
   "execution_count": null,
   "id": "70e843ca",
   "metadata": {},
   "outputs": [],
   "source": []
  },
  {
   "cell_type": "code",
   "execution_count": null,
   "id": "8dac2a4b",
   "metadata": {},
   "outputs": [],
   "source": [
    "X, Y = np.meshgrid(np.linspace(0, 1, dimension), np.linspace(0, 1, dimension))"
   ]
  },
  {
   "cell_type": "code",
   "execution_count": null,
   "id": "35cc91b2",
   "metadata": {},
   "outputs": [],
   "source": [
    "ml = pyamg.smoothed_aggregation_solver(a,  # the matrix\n",
    "                                       B=X.reshape(dimension * dimension, 1),             # the representation of the near null space (this is a poor choice)\n",
    "                                       BH=None,                           # the representation of the left near null space\n",
    "                                       symmetry='hermitian',              # indicate that the matrix is Hermitian\n",
    "                                       strength='evolution',              # change the strength of connection\n",
    "                                       aggregate='standard',              # use a standard aggregation method\n",
    "                                       smooth=('jacobi', {'omega': 4.0 / 3.0, 'degree': 2}),   # prolongation smoothing\n",
    "                                       presmoother=('block_gauss_seidel', {'sweep': 'symmetric'}),\n",
    "                                       postsmoother=('block_gauss_seidel', {'sweep': 'symmetric'}),\n",
    "                                       improve_candidates=[('block_gauss_seidel',\n",
    "                                                           {'sweep': 'symmetric', 'iterations': 4}), None],\n",
    "                                       max_levels=10,                     # maximum number of levels\n",
    "                                       max_coarse=5,                      # maximum number on a coarse level\n",
    "                                       keep=False)                        # keep extra operators around in the hierarchy (memory)"
   ]
  },
  {
   "cell_type": "code",
   "execution_count": null,
   "id": "a41b96dd",
   "metadata": {},
   "outputs": [],
   "source": [
    "--------------------------------------------------------------------------------------"
   ]
  },
  {
   "cell_type": "code",
   "execution_count": null,
   "id": "0db966c1",
   "metadata": {},
   "outputs": [],
   "source": [
    "# ------------------------------------------------------------------\n",
    "# Step 4: solve the system\n",
    "# ------------------------------------------------------------------\n",
    "res1 = []\n",
    "x = ml.solve(b, tol=1e-12, residuals=res1)  # solve Ax=b to a tolerance of 1e-12\n"
   ]
  },
  {
   "cell_type": "code",
   "execution_count": null,
   "id": "f8efc804",
   "metadata": {},
   "outputs": [],
   "source": [
    "# ------------------------------------------------------------------\n",
    "# Step 5: print details\n",
    "# ------------------------------------------------------------------\n",
    "print(\"\\n\")\n",
    "print(\"Details: Default AMG\")\n",
    "print(\"--------------------\")\n",
    "print(ml)                                 # print hierarchy information\n",
    "\n",
    "print(\"The residual norm is {}\".format(np.linalg.norm(b - A * x)))  # compute norm of residual vector"
   ]
  },
  {
   "cell_type": "code",
   "execution_count": null,
   "id": "74fcd9c5",
   "metadata": {},
   "outputs": [],
   "source": [
    "# notice that there are 5 (or maybe 6) levels in the hierarchy\n",
    "#\n",
    "# we can look at the data in each of the levels\n",
    "# e.g. the multigrid components on the finest (0) level\n",
    "#      A: operator on level 0\n",
    "#      P: prolongation operator mapping from level 1 to level 0\n",
    "#      R: restriction operator mapping from level 0 to level 1\n",
    "#      B: near null-space modes for level 0\n",
    "#      presmoother: presmoothing function taking arguments (A,x,b)\n",
    "#      postsmoother: postsmoothing function taking arguments (A,x,b)\n",
    "print(\"\\n\")\n",
    "print(\"The Multigrid Hierarchy\")\n",
    "print(\"-----------------------\")\n",
    "for l in range(len(ml.levels)):\n",
    "    An = ml.levels[l].A.shape[0]\n",
    "    Am = ml.levels[l].A.shape[1]\n",
    "    if l == (len(ml.levels)-1):\n",
    "        print(f\"A_{l}: {An:>10}x{Am:<10}\")\n",
    "    else:\n",
    "        Pn = ml.levels[l].P.shape[0]\n",
    "        Pm = ml.levels[l].P.shape[1]\n",
    "        print(f\"A_{l}: {An:>10}x{Am:<10}   P_{l}: {Pn:>10}x{Pm:<10}\")"
   ]
  },
  {
   "cell_type": "code",
   "execution_count": null,
   "id": "d617787c",
   "metadata": {},
   "outputs": [],
   "source": [
    "# ------------------------------------------------------------------\n",
    "# Step 6: change the hierarchy\n",
    "# ------------------------------------------------------------------\n",
    "# we can also change the details of the hierarchy\n",
    "ml = pyamg.smoothed_aggregation_solver(A,  # the matrix\n",
    "                                       B=X.reshape(n * n, 1),             # the representation of the near null space (this is a poor choice)\n",
    "                                       BH=None,                           # the representation of the left near null space\n",
    "                                       symmetry='hermitian',              # indicate that the matrix is Hermitian\n",
    "                                       strength='evolution',              # change the strength of connection\n",
    "                                       aggregate='standard',              # use a standard aggregation method\n",
    "                                       smooth=('jacobi', {'omega': 4.0 / 3.0, 'degree': 2}),   # prolongation smoothing\n",
    "                                       presmoother=('block_gauss_seidel', {'sweep': 'symmetric'}),\n",
    "                                       postsmoother=('block_gauss_seidel', {'sweep': 'symmetric'}),\n",
    "                                       improve_candidates=[('block_gauss_seidel',\n",
    "                                                           {'sweep': 'symmetric', 'iterations': 4}), None],\n",
    "                                       max_levels=10,                     # maximum number of levels\n",
    "                                       max_coarse=5,                      # maximum number on a coarse level\n",
    "                                       keep=False)                        # keep extra operators around in the hierarchy (memory)"
   ]
  },
  {
   "cell_type": "code",
   "execution_count": null,
   "id": "5d0b468d",
   "metadata": {},
   "outputs": [],
   "source": [
    "# ------------------------------------------------------------------\n",
    "# Step 7: print details\n",
    "# ------------------------------------------------------------------\n",
    "res2 = []                                               # keep the residual history in the solve\n",
    "x = ml.solve(b, tol=1e-12, residuals=res2)              # solve Ax=b to a tolerance of 1e-12\n",
    "print(\"\\n\")\n",
    "print(\"Details: Specialized AMG\")\n",
    "print(\"------------------------\")\n",
    "print(ml)                                               # print hierarchy information\n",
    "print(\"The residual norm is {}\".format(np.linalg.norm(b - A * x)))  # compute norm of residual vector\n",
    "print(\"\\n\")"
   ]
  },
  {
   "cell_type": "code",
   "execution_count": null,
   "id": "da9570c3",
   "metadata": {},
   "outputs": [],
   "source": [
    "# ------------------------------------------------------------------\n",
    "# Step 8: plot convergence history\n",
    "# ------------------------------------------------------------------\n",
    "fig, ax = plt.subplots()\n",
    "ax.semilogy(res1, label='Default AMG solver')\n",
    "ax.semilogy(res2, label='Specialized AMG solver')\n",
    "ax.set_xlabel('Iteration')\n",
    "ax.set_ylabel('Relative Residual')\n",
    "ax.grid(True)\n",
    "plt.legend()\n",
    "\n",
    "figname = f'./output/amg_convergence.png'\n",
    "import sys\n",
    "if '--savefig' in sys.argv:\n",
    "    plt.savefig(figname, bbox_inches='tight', dpi=150)\n",
    "else:\n",
    "    plt.show()"
   ]
  },
  {
   "cell_type": "code",
   "execution_count": null,
   "id": "96f48ec9",
   "metadata": {},
   "outputs": [],
   "source": []
  }
 ],
 "metadata": {
  "kernelspec": {
   "display_name": "Python [conda env:pyamg] *",
   "language": "python",
   "name": "conda-env-pyamg-py"
  },
  "language_info": {
   "codemirror_mode": {
    "name": "ipython",
    "version": 3
   },
   "file_extension": ".py",
   "mimetype": "text/x-python",
   "name": "python",
   "nbconvert_exporter": "python",
   "pygments_lexer": "ipython3",
   "version": "3.9.13"
  }
 },
 "nbformat": 4,
 "nbformat_minor": 5
}
